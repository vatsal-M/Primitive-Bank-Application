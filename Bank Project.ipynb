{
 "cells": [
  {
   "cell_type": "markdown",
   "metadata": {},
   "source": [
    "# Bank-Project"
   ]
  },
  {
   "cell_type": "code",
   "execution_count": 1,
   "metadata": {},
   "outputs": [],
   "source": [
    "import json\n",
    "import numpy as np\n",
    "from getpass import getpass"
   ]
  },
  {
   "cell_type": "code",
   "execution_count": null,
   "metadata": {},
   "outputs": [],
   "source": [
    "def debit(amount):\n",
    "    "
   ]
  },
  {
   "cell_type": "code",
   "execution_count": 2,
   "metadata": {
    "collapsed": true
   },
   "outputs": [
    {
     "ename": "SyntaxError",
     "evalue": "EOL while scanning string literal (<ipython-input-2-ab30933cad58>, line 7)",
     "output_type": "error",
     "traceback": [
      "\u001b[1;36m  File \u001b[1;32m\"<ipython-input-2-ab30933cad58>\"\u001b[1;36m, line \u001b[1;32m7\u001b[0m\n\u001b[1;33m    print(\"You have opened the bank application,please choose one of three options\\nPress 1 to Login to your Bank account\\nPress 2 to sign up to a new account\\nPress 3 to exit the application)\u001b[0m\n\u001b[1;37m                                                                                                                                                                                                ^\u001b[0m\n\u001b[1;31mSyntaxError\u001b[0m\u001b[1;31m:\u001b[0m EOL while scanning string literal\n"
     ]
    }
   ],
   "source": [
    "class Bank:\n",
    "    \"\"\"This class contains all the functions of a bank account\"\"\"\n",
    "    database={'ID':'Account ID','Password':'something secure','Balance':0 }\n",
    "    file=open('E:\\Grras training and internship\\Bank_database.txt','wt')\n",
    "    json.dump(database,file)\n",
    "    def __new__(cls):\n",
    "        print(\"You have opened the bank application,please choose one of three options\\nPress 1 to Login to your Bank account\\nPress 2 to sign up to a new account\\nPress 3 to exit the application)\n",
    "        i=int(input('Enter your choice: '))\n",
    "    \n",
    "\n",
    "    def Login(acc_id,password,file,database=database):\n",
    "              for i in database['ID']:\n",
    "                  if acc_id==i:\n",
    "                      flag1==True\n",
    "                  else:\n",
    "                      print('User does not exist please sign up')\n",
    "                      #obj.exit()\n",
    "              for j in database['Password']:\n",
    "                  if password==j:\n",
    "                      Flag2==True\n",
    "                  else:\n",
    "                      print('password incorrect! Please try again')\n",
    "                      password=input('Enter Password again: ')\n",
    "                      #call Login Method\n",
    "                 \n",
    "              if flag1&flag2==True:\n",
    "                  print(\"Login Successful: Please choose what you would like to do\\nPress 1 to Debit amount\\nPress 2 to Credit amount\\nPress 3 to Check Balance\\nPress 4 to update account\\nPress 5 to Log out\")\n",
    "                    \n",
    "    if i==1:\n",
    "              acc_id=input('Enter your Account ID: ')\n",
    "              password=getpass('Enter your password: ')\n",
    "              \n",
    "              "
   ]
  },
  {
   "cell_type": "code",
   "execution_count": null,
   "metadata": {},
   "outputs": [],
   "source": []
  }
 ],
 "metadata": {
  "kernelspec": {
   "display_name": "Python 3",
   "language": "python",
   "name": "python3"
  },
  "language_info": {
   "codemirror_mode": {
    "name": "ipython",
    "version": 3
   },
   "file_extension": ".py",
   "mimetype": "text/x-python",
   "name": "python",
   "nbconvert_exporter": "python",
   "pygments_lexer": "ipython3",
   "version": "3.7.0"
  }
 },
 "nbformat": 4,
 "nbformat_minor": 2
}
