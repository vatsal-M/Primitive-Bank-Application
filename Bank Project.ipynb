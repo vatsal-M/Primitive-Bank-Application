{
 "cells": [
  {
   "cell_type": "markdown",
   "metadata": {},
   "source": [
    "# Bank-Project"
   ]
  },
  {
   "cell_type": "code",
   "execution_count": 2,
   "metadata": {},
   "outputs": [],
   "source": [
    "import json\n",
    "import numpy as np\n",
    "from getpass import getpass"
   ]
  },
  {
   "cell_type": "code",
   "execution_count": 1,
   "metadata": {},
   "outputs": [
    {
     "ename": "SyntaxError",
     "evalue": "unexpected EOF while parsing (<ipython-input-1-a7388a1f2c4d>, line 20)",
     "output_type": "error",
     "traceback": [
      "\u001b[1;36m  File \u001b[1;32m\"<ipython-input-1-a7388a1f2c4d>\"\u001b[1;36m, line \u001b[1;32m20\u001b[0m\n\u001b[1;33m    def update_acc(self,acc_id,new_id,new_password,file):\u001b[0m\n\u001b[1;37m                                                         ^\u001b[0m\n\u001b[1;31mSyntaxError\u001b[0m\u001b[1;31m:\u001b[0m unexpected EOF while parsing\n"
     ]
    }
   ],
   "source": [
    "def debit(self,acc_id,amount,file):\n",
    "    db=json.load(file)\n",
    "    new_amount=db['ID']['Amount']-amount\n",
    "    database=db.update(db['ID']['Amount']==new_amount)\n",
    "    json.dump(database,file)\n",
    "    print(f'Rupees {amount} have been debited from your account')\n",
    "    \n",
    "def credit(self,acc_id,amount,file):\n",
    "    db=json.load(file)\n",
    "    new_amount=db['ID']['Amount']+amount\n",
    "    database=db.update(db['ID']['Amount']==new_amount)\n",
    "    json.dump(database,file)\n",
    "    print(f'Rupees {amount} have been credited to your account')\n",
    "    \n",
    "def checK_balance(self,acc_id,file):\n",
    "    db=json.load(file)\n",
    "    balance=db['ID']['Amount']\n",
    "    print(f'Your account balance is {balance}')\n",
    "    \n",
    "def update_acc(self,acc_id,file):\n",
    "    print('Press 1 if you want to change the user ID\\nPress 2 if you want to change the password')\n",
    "    i=int(intput('Enter your choice: '))\n",
    "    if i==1:\n",
    "        new_id=input('Enter your new id: ')\n",
    "        db=json.load(file)\n",
    "        database=db.update(db['ID']==new_id)\n",
    "        json.dump(database,file)\n",
    "        print(f'Your account has been successfuly updated your new account ID is {new_id}')\n",
    "    if i==2:\n",
    "        new_password=getpass('Enter your password: ')\n",
    "        db=json.load(file)\n",
    "        database=db.update(db['ID']['Password']==new_password)\n",
    "        json.dump(database,file)\n",
    "        print(f'Your account has been successfuly updated')\n",
    "\n",
    "def logout():\n",
    "    print('Bye have a nice day')\n",
    "    return 0"
   ]
  },
  {
   "cell_type": "code",
   "execution_count": 19,
   "metadata": {},
   "outputs": [],
   "source": [
    "class Bank:\n",
    "    \"\"\"This class contains all the functions of a bank account\"\"\"\n",
    "    database={'ID':{'Password':'something secure','Balance':0 }}\n",
    "    file=open('E:\\Grras training and internship\\Bank_database.txt','wt')\n",
    "    json.dump(database,file)\n",
    "   \n",
    "    def choice(self): \n",
    "        print(\"\"\"\"\"You have opened the bank application,please choose one of three options\\n\n",
    "        Press 1 to Login to your Bank account\\nPress 2 to sign up to a new account\\nPress 3 to exit the application\"\"\")\n",
    "        i=int(input('Enter your choice: '))\n",
    "        if i==1:\n",
    "              acc_id=input('Enter your Account ID: ')\n",
    "              password=getpass('Enter your password: ')\n",
    "              self.Login(acc_id,password)\n",
    "        \n",
    "    def Login(self,acc_id,password,file=file):\n",
    "              db=json.load(file)\n",
    "              for i in db['ID']:\n",
    "                  if acc_id==i:\n",
    "                      flag1==True\n",
    "                  else:\n",
    "                      print('User does not exist please sign up')\n",
    "                      #obj.exit()\n",
    "              for j in db['ID']['Password']:\n",
    "                  if password==j:\n",
    "                      Flag2==True\n",
    "                  else:\n",
    "                      print('password incorrect! Please try again')\n",
    "                      password=input('Enter Password again: ')\n",
    "                      #call Login Method\n",
    "                 \n",
    "              if flag1&flag2==True:\n",
    "                  print(\"\"\"Login Successful: Please choose what you would like to do\\n\n",
    "                  Press 1 to Debit amount\\nPress 2 to Credit amount\\n\n",
    "                  Press 3 to Check Balance\\nPress 4 to update account\\nPress 5 to Log out\"\"\")\n",
    "              \n",
    "              choice=int(input('Enter your choice: '))\n",
    "              if choice==1:\n",
    "                  def debit(self,acc_id,amount,file):\n",
    "                        db=json.load(file)\n",
    "                        new_amount=db['ID']['Amount']-amount\n",
    "                        database=db.update(db['ID']['Amount']==new_amount)\n",
    "                        json.dump(database,file)\n",
    "                        print(f'Rupees {amount} have been debited from your account')\n",
    "              \n",
    "              if choice==2:\n",
    "                  def credit(self,acc_id,amount,file):\n",
    "                        db=json.load(file)\n",
    "                        new_amount=db['ID']['Amount']+amount\n",
    "                        database=db.update(db['ID']['Amount']==new_amount)\n",
    "                        json.dump(database,file)\n",
    "                        print(f'Rupees {amount} have been credited to your account')\n",
    "              \n",
    "              if choice==3:\n",
    "                  def checK_balance(self,acc_id,file):\n",
    "                        db=json.load(file)\n",
    "                        balance=db['ID']['Amount']\n",
    "                        print(f'Your account balance is {balance}')\n",
    "              \n",
    "              if choice==4:\n",
    "                  def update_acc(self,acc_id,file):\n",
    "                        print('Press 1 if you want to change the user ID\\nPress 2 if you want to change the password')\n",
    "                        i=int(intput('Enter your choice: '))\n",
    "                        if i==1:\n",
    "                            new_id=input('Enter your new id: ')\n",
    "                            db=json.load(file)\n",
    "                            database=db.update(db['ID']==new_id)\n",
    "                            json.dump(database,file)\n",
    "                            print(f'Your account has been successfuly updated your new account ID is {new_id}')\n",
    "                        if i==2:\n",
    "                            new_password=getpass('Enter your password: ')\n",
    "                            db=json.load(file)\n",
    "                            database=db.update(db['ID']['Password']==new_password)\n",
    "                            json.dump(database,file)\n",
    "                            print(f'Your account has been successfuly updated')\n",
    "              \n",
    "              if choice==5:\n",
    "                  def logout():\n",
    "                        print('Bye have a nice day')\n",
    "                        return 0\n",
    "    \n",
    "              "
   ]
  },
  {
   "cell_type": "code",
   "execution_count": 20,
   "metadata": {},
   "outputs": [
    {
     "name": "stdout",
     "output_type": "stream",
     "text": [
      "\"\"You have opened the bank application,please choose one of three options\n",
      "\n",
      "        Press 1 to Login to your Bank account\n",
      "Press 2 to sign up to a new account\n",
      "Press 3 to exit the application\n",
      "Enter your choice: 1\n",
      "Enter your Account ID: 234\n",
      "Enter your password: ········\n"
     ]
    },
    {
     "ename": "UnsupportedOperation",
     "evalue": "not readable",
     "output_type": "error",
     "traceback": [
      "\u001b[1;31m---------------------------------------------------------------------------\u001b[0m",
      "\u001b[1;31mUnsupportedOperation\u001b[0m                      Traceback (most recent call last)",
      "\u001b[1;32m<ipython-input-20-9236c037410f>\u001b[0m in \u001b[0;36m<module>\u001b[1;34m()\u001b[0m\n\u001b[0;32m      1\u001b[0m \u001b[0mapp\u001b[0m\u001b[1;33m=\u001b[0m\u001b[0mBank\u001b[0m\u001b[1;33m(\u001b[0m\u001b[1;33m)\u001b[0m\u001b[1;33m\u001b[0m\u001b[0m\n\u001b[1;32m----> 2\u001b[1;33m \u001b[0mapp\u001b[0m\u001b[1;33m.\u001b[0m\u001b[0mchoice\u001b[0m\u001b[1;33m(\u001b[0m\u001b[1;33m)\u001b[0m\u001b[1;33m\u001b[0m\u001b[0m\n\u001b[0m",
      "\u001b[1;32m<ipython-input-19-32bae68465a9>\u001b[0m in \u001b[0;36mchoice\u001b[1;34m(self)\u001b[0m\n\u001b[0;32m     12\u001b[0m               \u001b[0macc_id\u001b[0m\u001b[1;33m=\u001b[0m\u001b[0minput\u001b[0m\u001b[1;33m(\u001b[0m\u001b[1;34m'Enter your Account ID: '\u001b[0m\u001b[1;33m)\u001b[0m\u001b[1;33m\u001b[0m\u001b[0m\n\u001b[0;32m     13\u001b[0m               \u001b[0mpassword\u001b[0m\u001b[1;33m=\u001b[0m\u001b[0mgetpass\u001b[0m\u001b[1;33m(\u001b[0m\u001b[1;34m'Enter your password: '\u001b[0m\u001b[1;33m)\u001b[0m\u001b[1;33m\u001b[0m\u001b[0m\n\u001b[1;32m---> 14\u001b[1;33m               \u001b[0mself\u001b[0m\u001b[1;33m.\u001b[0m\u001b[0mLogin\u001b[0m\u001b[1;33m(\u001b[0m\u001b[0macc_id\u001b[0m\u001b[1;33m,\u001b[0m\u001b[0mpassword\u001b[0m\u001b[1;33m)\u001b[0m\u001b[1;33m\u001b[0m\u001b[0m\n\u001b[0m\u001b[0;32m     15\u001b[0m \u001b[1;33m\u001b[0m\u001b[0m\n\u001b[0;32m     16\u001b[0m     \u001b[1;32mdef\u001b[0m \u001b[0mLogin\u001b[0m\u001b[1;33m(\u001b[0m\u001b[0mself\u001b[0m\u001b[1;33m,\u001b[0m\u001b[0macc_id\u001b[0m\u001b[1;33m,\u001b[0m\u001b[0mpassword\u001b[0m\u001b[1;33m,\u001b[0m\u001b[0mfile\u001b[0m\u001b[1;33m=\u001b[0m\u001b[0mfile\u001b[0m\u001b[1;33m)\u001b[0m\u001b[1;33m:\u001b[0m\u001b[1;33m\u001b[0m\u001b[0m\n",
      "\u001b[1;32m<ipython-input-19-32bae68465a9>\u001b[0m in \u001b[0;36mLogin\u001b[1;34m(self, acc_id, password, file)\u001b[0m\n\u001b[0;32m     15\u001b[0m \u001b[1;33m\u001b[0m\u001b[0m\n\u001b[0;32m     16\u001b[0m     \u001b[1;32mdef\u001b[0m \u001b[0mLogin\u001b[0m\u001b[1;33m(\u001b[0m\u001b[0mself\u001b[0m\u001b[1;33m,\u001b[0m\u001b[0macc_id\u001b[0m\u001b[1;33m,\u001b[0m\u001b[0mpassword\u001b[0m\u001b[1;33m,\u001b[0m\u001b[0mfile\u001b[0m\u001b[1;33m=\u001b[0m\u001b[0mfile\u001b[0m\u001b[1;33m)\u001b[0m\u001b[1;33m:\u001b[0m\u001b[1;33m\u001b[0m\u001b[0m\n\u001b[1;32m---> 17\u001b[1;33m               \u001b[0mdb\u001b[0m\u001b[1;33m=\u001b[0m\u001b[0mjson\u001b[0m\u001b[1;33m.\u001b[0m\u001b[0mload\u001b[0m\u001b[1;33m(\u001b[0m\u001b[0mfile\u001b[0m\u001b[1;33m)\u001b[0m\u001b[1;33m\u001b[0m\u001b[0m\n\u001b[0m\u001b[0;32m     18\u001b[0m               \u001b[1;32mfor\u001b[0m \u001b[0mi\u001b[0m \u001b[1;32min\u001b[0m \u001b[0mdb\u001b[0m\u001b[1;33m[\u001b[0m\u001b[1;34m'ID'\u001b[0m\u001b[1;33m]\u001b[0m\u001b[1;33m:\u001b[0m\u001b[1;33m\u001b[0m\u001b[0m\n\u001b[0;32m     19\u001b[0m                   \u001b[1;32mif\u001b[0m \u001b[0macc_id\u001b[0m\u001b[1;33m==\u001b[0m\u001b[0mi\u001b[0m\u001b[1;33m:\u001b[0m\u001b[1;33m\u001b[0m\u001b[0m\n",
      "\u001b[1;32m~\\Anaconda3\\lib\\json\\__init__.py\u001b[0m in \u001b[0;36mload\u001b[1;34m(fp, cls, object_hook, parse_float, parse_int, parse_constant, object_pairs_hook, **kw)\u001b[0m\n\u001b[0;32m    291\u001b[0m     \u001b[0mkwarg\u001b[0m\u001b[1;33m;\u001b[0m \u001b[0motherwise\u001b[0m\u001b[0;31m \u001b[0m\u001b[0;31m`\u001b[0m\u001b[0;31m`\u001b[0m\u001b[0mJSONDecoder\u001b[0m\u001b[0;31m`\u001b[0m\u001b[0;31m`\u001b[0m \u001b[1;32mis\u001b[0m \u001b[0mused\u001b[0m\u001b[1;33m.\u001b[0m\u001b[1;33m\u001b[0m\u001b[0m\n\u001b[0;32m    292\u001b[0m     \"\"\"\n\u001b[1;32m--> 293\u001b[1;33m     return loads(fp.read(),\n\u001b[0m\u001b[0;32m    294\u001b[0m         \u001b[0mcls\u001b[0m\u001b[1;33m=\u001b[0m\u001b[0mcls\u001b[0m\u001b[1;33m,\u001b[0m \u001b[0mobject_hook\u001b[0m\u001b[1;33m=\u001b[0m\u001b[0mobject_hook\u001b[0m\u001b[1;33m,\u001b[0m\u001b[1;33m\u001b[0m\u001b[0m\n\u001b[0;32m    295\u001b[0m         \u001b[0mparse_float\u001b[0m\u001b[1;33m=\u001b[0m\u001b[0mparse_float\u001b[0m\u001b[1;33m,\u001b[0m \u001b[0mparse_int\u001b[0m\u001b[1;33m=\u001b[0m\u001b[0mparse_int\u001b[0m\u001b[1;33m,\u001b[0m\u001b[1;33m\u001b[0m\u001b[0m\n",
      "\u001b[1;31mUnsupportedOperation\u001b[0m: not readable"
     ]
    }
   ],
   "source": [
    "app=Bank()\n",
    "app.choice()"
   ]
  },
  {
   "cell_type": "code",
   "execution_count": null,
   "metadata": {},
   "outputs": [],
   "source": []
  }
 ],
 "metadata": {
  "kernelspec": {
   "display_name": "Python 3",
   "language": "python",
   "name": "python3"
  },
  "language_info": {
   "codemirror_mode": {
    "name": "ipython",
    "version": 3
   },
   "file_extension": ".py",
   "mimetype": "text/x-python",
   "name": "python",
   "nbconvert_exporter": "python",
   "pygments_lexer": "ipython3",
   "version": "3.7.0"
  }
 },
 "nbformat": 4,
 "nbformat_minor": 2
}
