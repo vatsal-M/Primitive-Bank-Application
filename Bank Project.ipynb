{
 "cells": [
  {
   "cell_type": "markdown",
   "metadata": {},
   "source": [
    "# Bank-Project"
   ]
  },
  {
   "cell_type": "code",
   "execution_count": 3,
   "metadata": {},
   "outputs": [],
   "source": [
    "import json\n",
    "import numpy as np\n",
    "from getpass import getpass"
   ]
  },
  {
   "cell_type": "code",
   "execution_count": 6,
   "metadata": {},
   "outputs": [
    {
     "ename": "NameError",
     "evalue": "name 'database' is not defined",
     "output_type": "error",
     "traceback": [
      "\u001b[1;31m---------------------------------------------------------------------------\u001b[0m",
      "\u001b[1;31mNameError\u001b[0m                                 Traceback (most recent call last)",
      "\u001b[1;32m<ipython-input-6-b756bf3649eb>\u001b[0m in \u001b[0;36m<module>\u001b[1;34m()\u001b[0m\n\u001b[1;32m----> 1\u001b[1;33m \u001b[1;32mclass\u001b[0m \u001b[0mBank\u001b[0m\u001b[1;33m:\u001b[0m\u001b[1;33m\u001b[0m\u001b[0m\n\u001b[0m\u001b[0;32m      2\u001b[0m     \u001b[1;34m\"\"\"This class contains all the functions of a bank account\"\"\"\u001b[0m\u001b[1;33m\u001b[0m\u001b[0m\n\u001b[0;32m      3\u001b[0m \u001b[1;33m\u001b[0m\u001b[0m\n\u001b[0;32m      4\u001b[0m     \u001b[1;31m#file=open('E:\\Grras training and internship\\Bank_database.txt','r+',encoding='utf-8')\u001b[0m\u001b[1;33m\u001b[0m\u001b[1;33m\u001b[0m\u001b[0m\n\u001b[0;32m      5\u001b[0m     \u001b[1;32mdef\u001b[0m \u001b[0m__init__\u001b[0m\u001b[1;33m(\u001b[0m\u001b[0mself\u001b[0m\u001b[1;33m,\u001b[0m\u001b[0mdatabase\u001b[0m\u001b[1;33m=\u001b[0m\u001b[0mdatabase\u001b[0m\u001b[1;33m)\u001b[0m\u001b[1;33m:\u001b[0m\u001b[1;33m\u001b[0m\u001b[0m\n",
      "\u001b[1;32m<ipython-input-6-b756bf3649eb>\u001b[0m in \u001b[0;36mBank\u001b[1;34m()\u001b[0m\n\u001b[0;32m      3\u001b[0m \u001b[1;33m\u001b[0m\u001b[0m\n\u001b[0;32m      4\u001b[0m     \u001b[1;31m#file=open('E:\\Grras training and internship\\Bank_database.txt','r+',encoding='utf-8')\u001b[0m\u001b[1;33m\u001b[0m\u001b[1;33m\u001b[0m\u001b[0m\n\u001b[1;32m----> 5\u001b[1;33m     \u001b[1;32mdef\u001b[0m \u001b[0m__init__\u001b[0m\u001b[1;33m(\u001b[0m\u001b[0mself\u001b[0m\u001b[1;33m,\u001b[0m\u001b[0mdatabase\u001b[0m\u001b[1;33m=\u001b[0m\u001b[0mdatabase\u001b[0m\u001b[1;33m)\u001b[0m\u001b[1;33m:\u001b[0m\u001b[1;33m\u001b[0m\u001b[0m\n\u001b[0m\u001b[0;32m      6\u001b[0m         \u001b[0mfile\u001b[0m\u001b[1;33m=\u001b[0m\u001b[0mopen\u001b[0m\u001b[1;33m(\u001b[0m\u001b[1;34m'E:\\Grras training and internship\\Bank_database.txt'\u001b[0m\u001b[1;33m,\u001b[0m\u001b[1;34m'r+'\u001b[0m\u001b[1;33m,\u001b[0m\u001b[0mencoding\u001b[0m\u001b[1;33m=\u001b[0m\u001b[1;34m'utf-8'\u001b[0m\u001b[1;33m)\u001b[0m\u001b[1;33m\u001b[0m\u001b[0m\n\u001b[0;32m      7\u001b[0m \u001b[1;33m\u001b[0m\u001b[0m\n",
      "\u001b[1;31mNameError\u001b[0m: name 'database' is not defined"
     ]
    }
   ],
   "source": [
    "class Bank:\n",
    "    \"\"\"This class contains all the functions of a bank account\"\"\"\n",
    "    \n",
    "    database={}\n",
    "    file=open('E:\\Grras training and internship\\Bank_database.txt','r+',encoding='utf-8')\n",
    "    def __init__(self,database=database):\n",
    "        with open(\"Bank_database.txt\", \"w\") as write_file:\n",
    "            json.dump(database, write_file)\n",
    "        file=open('Bank_database.txt','r+',encoding='utf-8')\n",
    "   \n",
    "    def choice(self,file=file): \n",
    "        print(\"\"\"\"\"You have opened the bank application,please choose one of three options\\n\n",
    "        Press 1 to Login to your Bank account\\nPress 2 to sign up to a new account\\nPress 3 to exit the application\"\"\")\n",
    "        i=int(input('Enter your choice: '))\n",
    "        if i==1:\n",
    "              acc_id=input('Enter your Account ID: ')\n",
    "              password=getpass('Enter your password: ')\n",
    "              self.Login(acc_id,password)\n",
    "        if i==2:\n",
    "              self.signup()\n",
    "              self.choice()  \n",
    "    def debit(self,acc_id,amount,file):\n",
    "                        db=json.load(file)\n",
    "                        new_amount=db['ID']['Amount']-amount\n",
    "                        database=db.update(db['ID']['Amount']==new_amount)\n",
    "                        json.dump(database,file)\n",
    "                        file.close()\n",
    "                        print(f'Rupees {amount} have been debited from your account')\n",
    "                        \n",
    "    def credit(self,acc_id,amount,file):\n",
    "                        db=json.load(file)\n",
    "                        new_amount=db['ID']['Amount']+amount\n",
    "                        database=db.update(db['ID']['Amount']==new_amount)\n",
    "                        json.dump(database,file)\n",
    "                        file.close()\n",
    "                        print(f'Rupees {amount} have been credited to your account')\n",
    "                        \n",
    "    def checK_balance(self,acc_id,file):\n",
    "                        db=json.load(file)\n",
    "                        balance=db['ID']['Amount']\n",
    "                        print(f'Your account balance is {balance}')\n",
    "                        file.close()\n",
    "    \n",
    "    def update_acc(self,acc_id,file):\n",
    "                        print('Press 1 if you want to change the user ID\\nPress 2 if you want to change the password')\n",
    "                        i=int(intput('Enter your choice: '))\n",
    "                        if i==1:\n",
    "                            new_id=input('Enter your new id: ')\n",
    "                            db=json.load(file)\n",
    "                            database=db.update(db['ID']==new_id)\n",
    "                            json.dump(database,file)\n",
    "                            print(f'Your account has been successfuly updated your new account ID is {new_id}')\n",
    "                            file.close()\n",
    "                        if i==2:\n",
    "                            new_password=getpass('Enter your password: ')\n",
    "                            db=json.load(file)\n",
    "                            database=db.update(db['ID']['Password']==new_password)\n",
    "                            json.dump(database,file)\n",
    "                            print(f'Your account has been successfuly updated')\n",
    "                            file.close()\n",
    "    def logout():\n",
    "                        print('Bye have a nice day')\n",
    "                        return 0\n",
    "            \n",
    "    def Login(self,acc_id,password,file=file):\n",
    "              db=json.load(file)\n",
    "              for i in db['ID']:\n",
    "                  if acc_id==i:\n",
    "                      flag1==True\n",
    "                      for j in db['ID']['Password']:\n",
    "                          if password==j:\n",
    "                              Flag2==True\n",
    "                          else:\n",
    "                              print('password incorrect! Please try again')\n",
    "                              password=input('Enter Password again: ')\n",
    "                              self.Login(acc_id,password)  \n",
    "                  else:\n",
    "                      print('User does not exist please sign up')\n",
    "                      return 0\n",
    "              \n",
    "              for j in db['ID']['Password']:\n",
    "                  if password==j:\n",
    "                      Flag2==True\n",
    "                  else:\n",
    "                      print('password incorrect! Please try again')\n",
    "                      password=input('Enter Password again: ')\n",
    "                      self.Login(acc_id,password)\n",
    "                 \n",
    "              if flag1&flag2==True:\n",
    "                  print(\"\"\"Login Successful: Please choose what you would like to do\\n\n",
    "                  Press 1 to Debit amount\\nPress 2 to Credit amount\\n\n",
    "                  Press 3 to Check Balance\\nPress 4 to update account\\nPress 5 to Log out\"\"\")\n",
    "              \n",
    "              choice=int(input('Enter your choice: '))\n",
    "              if choice==1:\n",
    "                  self.debit(acc_id,amount,file)\n",
    "              \n",
    "              if choice==2:\n",
    "                  self.credit(acc_id,amount,file)\n",
    "              \n",
    "              if choice==3:\n",
    "                  self.check_balance(acc_id,file)\n",
    "              \n",
    "              if choice==4:\n",
    "                  self.update_acc(acc_id,file)\n",
    "              if choice==5:\n",
    "                  self.logout()\n",
    "    \n",
    "    def signup(self,file=file):\n",
    "        acc_id=input('Enter the acc_id you want: ')\n",
    "        password1=getpass('Enter the password you want: ')\n",
    "        password2=getpass('Enter the password you want: ')\n",
    "        while password1!=password2:\n",
    "            password2=getpass('Enter the same password: ')\n",
    "        deposit=int(input('Enter security deposit: '))\n",
    "        new_db={acc_id:{'Password':password1,'Balance':deposit }}\n",
    "        db=json.load(file)\n",
    "        db.update(new_db)\n",
    "        json.dump(new_db,file)        "
   ]
  },
  {
   "cell_type": "code",
   "execution_count": 5,
   "metadata": {
    "scrolled": false
   },
   "outputs": [
    {
     "name": "stdout",
     "output_type": "stream",
     "text": [
      "\"\"You have opened the bank application,please choose one of three options\n",
      "\n",
      "        Press 1 to Login to your Bank account\n",
      "Press 2 to sign up to a new account\n",
      "Press 3 to exit the application\n",
      "Enter your choice: 2\n",
      "Enter the acc_id you want: vat\n",
      "Enter the password you want: ········\n",
      "Enter the password you want: ········\n",
      "Enter security deposit: 1000\n"
     ]
    },
    {
     "ename": "JSONDecodeError",
     "evalue": "Extra data: line 1 column 55 (char 54)",
     "output_type": "error",
     "traceback": [
      "\u001b[1;31m---------------------------------------------------------------------------\u001b[0m",
      "\u001b[1;31mJSONDecodeError\u001b[0m                           Traceback (most recent call last)",
      "\u001b[1;32m<ipython-input-5-9236c037410f>\u001b[0m in \u001b[0;36m<module>\u001b[1;34m()\u001b[0m\n\u001b[0;32m      1\u001b[0m \u001b[0mapp\u001b[0m\u001b[1;33m=\u001b[0m\u001b[0mBank\u001b[0m\u001b[1;33m(\u001b[0m\u001b[1;33m)\u001b[0m\u001b[1;33m\u001b[0m\u001b[0m\n\u001b[1;32m----> 2\u001b[1;33m \u001b[0mapp\u001b[0m\u001b[1;33m.\u001b[0m\u001b[0mchoice\u001b[0m\u001b[1;33m(\u001b[0m\u001b[1;33m)\u001b[0m\u001b[1;33m\u001b[0m\u001b[0m\n\u001b[0m",
      "\u001b[1;32m<ipython-input-4-8ac41f8c6e9c>\u001b[0m in \u001b[0;36mchoice\u001b[1;34m(self, file)\u001b[0m\n\u001b[0;32m     18\u001b[0m               \u001b[0mself\u001b[0m\u001b[1;33m.\u001b[0m\u001b[0mLogin\u001b[0m\u001b[1;33m(\u001b[0m\u001b[0macc_id\u001b[0m\u001b[1;33m,\u001b[0m\u001b[0mpassword\u001b[0m\u001b[1;33m)\u001b[0m\u001b[1;33m\u001b[0m\u001b[0m\n\u001b[0;32m     19\u001b[0m         \u001b[1;32mif\u001b[0m \u001b[0mi\u001b[0m\u001b[1;33m==\u001b[0m\u001b[1;36m2\u001b[0m\u001b[1;33m:\u001b[0m\u001b[1;33m\u001b[0m\u001b[0m\n\u001b[1;32m---> 20\u001b[1;33m               \u001b[0mself\u001b[0m\u001b[1;33m.\u001b[0m\u001b[0msignup\u001b[0m\u001b[1;33m(\u001b[0m\u001b[1;33m)\u001b[0m\u001b[1;33m\u001b[0m\u001b[0m\n\u001b[0m\u001b[0;32m     21\u001b[0m               \u001b[0mself\u001b[0m\u001b[1;33m.\u001b[0m\u001b[0mchoice\u001b[0m\u001b[1;33m(\u001b[0m\u001b[1;33m)\u001b[0m\u001b[1;33m\u001b[0m\u001b[0m\n\u001b[0;32m     22\u001b[0m     \u001b[1;32mdef\u001b[0m \u001b[0mdebit\u001b[0m\u001b[1;33m(\u001b[0m\u001b[0mself\u001b[0m\u001b[1;33m,\u001b[0m\u001b[0macc_id\u001b[0m\u001b[1;33m,\u001b[0m\u001b[0mamount\u001b[0m\u001b[1;33m,\u001b[0m\u001b[0mfile\u001b[0m\u001b[1;33m)\u001b[0m\u001b[1;33m:\u001b[0m\u001b[1;33m\u001b[0m\u001b[0m\n",
      "\u001b[1;32m<ipython-input-4-8ac41f8c6e9c>\u001b[0m in \u001b[0;36msignup\u001b[1;34m(self, file)\u001b[0m\n\u001b[0;32m    115\u001b[0m         \u001b[0mdeposit\u001b[0m\u001b[1;33m=\u001b[0m\u001b[0mint\u001b[0m\u001b[1;33m(\u001b[0m\u001b[0minput\u001b[0m\u001b[1;33m(\u001b[0m\u001b[1;34m'Enter security deposit: '\u001b[0m\u001b[1;33m)\u001b[0m\u001b[1;33m)\u001b[0m\u001b[1;33m\u001b[0m\u001b[0m\n\u001b[0;32m    116\u001b[0m         \u001b[0mnew_db\u001b[0m\u001b[1;33m=\u001b[0m\u001b[1;33m{\u001b[0m\u001b[0macc_id\u001b[0m\u001b[1;33m:\u001b[0m\u001b[1;33m{\u001b[0m\u001b[1;34m'Password'\u001b[0m\u001b[1;33m:\u001b[0m\u001b[0mpassword1\u001b[0m\u001b[1;33m,\u001b[0m\u001b[1;34m'Balance'\u001b[0m\u001b[1;33m:\u001b[0m\u001b[0mdeposit\u001b[0m \u001b[1;33m}\u001b[0m\u001b[1;33m}\u001b[0m\u001b[1;33m\u001b[0m\u001b[0m\n\u001b[1;32m--> 117\u001b[1;33m         \u001b[0mdb\u001b[0m\u001b[1;33m=\u001b[0m\u001b[0mjson\u001b[0m\u001b[1;33m.\u001b[0m\u001b[0mload\u001b[0m\u001b[1;33m(\u001b[0m\u001b[0mfile\u001b[0m\u001b[1;33m)\u001b[0m\u001b[1;33m\u001b[0m\u001b[0m\n\u001b[0m\u001b[0;32m    118\u001b[0m         \u001b[0mdb\u001b[0m\u001b[1;33m.\u001b[0m\u001b[0mupdate\u001b[0m\u001b[1;33m(\u001b[0m\u001b[0mnew_db\u001b[0m\u001b[1;33m)\u001b[0m\u001b[1;33m\u001b[0m\u001b[0m\n\u001b[0;32m    119\u001b[0m         \u001b[0mjson\u001b[0m\u001b[1;33m.\u001b[0m\u001b[0mdump\u001b[0m\u001b[1;33m(\u001b[0m\u001b[0mnew_db\u001b[0m\u001b[1;33m,\u001b[0m\u001b[0mfile\u001b[0m\u001b[1;33m)\u001b[0m\u001b[1;33m\u001b[0m\u001b[0m\n",
      "\u001b[1;32m~\\Anaconda3\\lib\\json\\__init__.py\u001b[0m in \u001b[0;36mload\u001b[1;34m(fp, cls, object_hook, parse_float, parse_int, parse_constant, object_pairs_hook, **kw)\u001b[0m\n\u001b[0;32m    294\u001b[0m         \u001b[0mcls\u001b[0m\u001b[1;33m=\u001b[0m\u001b[0mcls\u001b[0m\u001b[1;33m,\u001b[0m \u001b[0mobject_hook\u001b[0m\u001b[1;33m=\u001b[0m\u001b[0mobject_hook\u001b[0m\u001b[1;33m,\u001b[0m\u001b[1;33m\u001b[0m\u001b[0m\n\u001b[0;32m    295\u001b[0m         \u001b[0mparse_float\u001b[0m\u001b[1;33m=\u001b[0m\u001b[0mparse_float\u001b[0m\u001b[1;33m,\u001b[0m \u001b[0mparse_int\u001b[0m\u001b[1;33m=\u001b[0m\u001b[0mparse_int\u001b[0m\u001b[1;33m,\u001b[0m\u001b[1;33m\u001b[0m\u001b[0m\n\u001b[1;32m--> 296\u001b[1;33m         parse_constant=parse_constant, object_pairs_hook=object_pairs_hook, **kw)\n\u001b[0m\u001b[0;32m    297\u001b[0m \u001b[1;33m\u001b[0m\u001b[0m\n\u001b[0;32m    298\u001b[0m \u001b[1;33m\u001b[0m\u001b[0m\n",
      "\u001b[1;32m~\\Anaconda3\\lib\\json\\__init__.py\u001b[0m in \u001b[0;36mloads\u001b[1;34m(s, encoding, cls, object_hook, parse_float, parse_int, parse_constant, object_pairs_hook, **kw)\u001b[0m\n\u001b[0;32m    346\u001b[0m             \u001b[0mparse_int\u001b[0m \u001b[1;32mis\u001b[0m \u001b[1;32mNone\u001b[0m \u001b[1;32mand\u001b[0m \u001b[0mparse_float\u001b[0m \u001b[1;32mis\u001b[0m \u001b[1;32mNone\u001b[0m \u001b[1;32mand\u001b[0m\u001b[1;33m\u001b[0m\u001b[0m\n\u001b[0;32m    347\u001b[0m             parse_constant is None and object_pairs_hook is None and not kw):\n\u001b[1;32m--> 348\u001b[1;33m         \u001b[1;32mreturn\u001b[0m \u001b[0m_default_decoder\u001b[0m\u001b[1;33m.\u001b[0m\u001b[0mdecode\u001b[0m\u001b[1;33m(\u001b[0m\u001b[0ms\u001b[0m\u001b[1;33m)\u001b[0m\u001b[1;33m\u001b[0m\u001b[0m\n\u001b[0m\u001b[0;32m    349\u001b[0m     \u001b[1;32mif\u001b[0m \u001b[0mcls\u001b[0m \u001b[1;32mis\u001b[0m \u001b[1;32mNone\u001b[0m\u001b[1;33m:\u001b[0m\u001b[1;33m\u001b[0m\u001b[0m\n\u001b[0;32m    350\u001b[0m         \u001b[0mcls\u001b[0m \u001b[1;33m=\u001b[0m \u001b[0mJSONDecoder\u001b[0m\u001b[1;33m\u001b[0m\u001b[0m\n",
      "\u001b[1;32m~\\Anaconda3\\lib\\json\\decoder.py\u001b[0m in \u001b[0;36mdecode\u001b[1;34m(self, s, _w)\u001b[0m\n\u001b[0;32m    338\u001b[0m         \u001b[0mend\u001b[0m \u001b[1;33m=\u001b[0m \u001b[0m_w\u001b[0m\u001b[1;33m(\u001b[0m\u001b[0ms\u001b[0m\u001b[1;33m,\u001b[0m \u001b[0mend\u001b[0m\u001b[1;33m)\u001b[0m\u001b[1;33m.\u001b[0m\u001b[0mend\u001b[0m\u001b[1;33m(\u001b[0m\u001b[1;33m)\u001b[0m\u001b[1;33m\u001b[0m\u001b[0m\n\u001b[0;32m    339\u001b[0m         \u001b[1;32mif\u001b[0m \u001b[0mend\u001b[0m \u001b[1;33m!=\u001b[0m \u001b[0mlen\u001b[0m\u001b[1;33m(\u001b[0m\u001b[0ms\u001b[0m\u001b[1;33m)\u001b[0m\u001b[1;33m:\u001b[0m\u001b[1;33m\u001b[0m\u001b[0m\n\u001b[1;32m--> 340\u001b[1;33m             \u001b[1;32mraise\u001b[0m \u001b[0mJSONDecodeError\u001b[0m\u001b[1;33m(\u001b[0m\u001b[1;34m\"Extra data\"\u001b[0m\u001b[1;33m,\u001b[0m \u001b[0ms\u001b[0m\u001b[1;33m,\u001b[0m \u001b[0mend\u001b[0m\u001b[1;33m)\u001b[0m\u001b[1;33m\u001b[0m\u001b[0m\n\u001b[0m\u001b[0;32m    341\u001b[0m         \u001b[1;32mreturn\u001b[0m \u001b[0mobj\u001b[0m\u001b[1;33m\u001b[0m\u001b[0m\n\u001b[0;32m    342\u001b[0m \u001b[1;33m\u001b[0m\u001b[0m\n",
      "\u001b[1;31mJSONDecodeError\u001b[0m: Extra data: line 1 column 55 (char 54)"
     ]
    }
   ],
   "source": [
    "app=Bank()\n",
    "app.choice()"
   ]
  },
  {
   "cell_type": "code",
   "execution_count": null,
   "metadata": {},
   "outputs": [],
   "source": []
  }
 ],
 "metadata": {
  "kernelspec": {
   "display_name": "Python 3",
   "language": "python",
   "name": "python3"
  },
  "language_info": {
   "codemirror_mode": {
    "name": "ipython",
    "version": 3
   },
   "file_extension": ".py",
   "mimetype": "text/x-python",
   "name": "python",
   "nbconvert_exporter": "python",
   "pygments_lexer": "ipython3",
   "version": "3.7.0"
  }
 },
 "nbformat": 4,
 "nbformat_minor": 2
}
